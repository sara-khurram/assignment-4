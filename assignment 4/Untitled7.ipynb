{
 "cells": [
  {
   "cell_type": "markdown",
   "id": "fc9aaab6",
   "metadata": {},
   "source": [
    "# Q NO 1  CALCULATOR"
   ]
  },
  {
   "cell_type": "code",
   "execution_count": 1,
   "id": "85f115f5",
   "metadata": {},
   "outputs": [
    {
     "name": "stdout",
     "output_type": "stream",
     "text": [
      "enter a value3\n",
      "enter a value9\n"
     ]
    },
    {
     "data": {
      "text/plain": [
       "12"
      ]
     },
     "execution_count": 1,
     "metadata": {},
     "output_type": "execute_result"
    }
   ],
   "source": [
    " #Adittioin\n",
    "    \n",
    "x = int(input('enter a value'));\n",
    "y = int(input('enter a value'));\n",
    "z = x+y;\n",
    "z\n",
    "\n"
   ]
  },
  {
   "cell_type": "code",
   "execution_count": 2,
   "id": "73da7e7a",
   "metadata": {},
   "outputs": [
    {
     "name": "stdout",
     "output_type": "stream",
     "text": [
      "enter a value453\n",
      "enter a value253\n"
     ]
    },
    {
     "data": {
      "text/plain": [
       "200"
      ]
     },
     "execution_count": 2,
     "metadata": {},
     "output_type": "execute_result"
    }
   ],
   "source": [
    "#Subtraction\n",
    "\n",
    "x = int(input('enter a value'));\n",
    "y = int(input('enter a value'));\n",
    "z = x-y;\n",
    "z\n"
   ]
  },
  {
   "cell_type": "code",
   "execution_count": 3,
   "id": "8f448fb5",
   "metadata": {},
   "outputs": [
    {
     "name": "stdout",
     "output_type": "stream",
     "text": [
      "enter a value3\n",
      "enter a value3\n"
     ]
    },
    {
     "data": {
      "text/plain": [
       "9"
      ]
     },
     "execution_count": 3,
     "metadata": {},
     "output_type": "execute_result"
    }
   ],
   "source": [
    "#Multiplication\n",
    "\n",
    "    \n",
    "x = int(input('enter a value'));\n",
    "y = int(input('enter a value'));\n",
    "z = x*y;\n",
    "z\n"
   ]
  },
  {
   "cell_type": "code",
   "execution_count": 4,
   "id": "7971aae2",
   "metadata": {},
   "outputs": [
    {
     "name": "stdout",
     "output_type": "stream",
     "text": [
      "enter a value12\n",
      "enter a value4\n"
     ]
    },
    {
     "data": {
      "text/plain": [
       "3.0"
      ]
     },
     "execution_count": 4,
     "metadata": {},
     "output_type": "execute_result"
    }
   ],
   "source": [
    "# Division\n",
    "\n",
    "    \n",
    "x = int(input('enter a value'));\n",
    "y = int(input('enter a value'));\n",
    "z = x/y;\n",
    "z\n"
   ]
  },
  {
   "cell_type": "code",
   "execution_count": 7,
   "id": "5d747d12",
   "metadata": {},
   "outputs": [
    {
     "name": "stdout",
     "output_type": "stream",
     "text": [
      "enter a value16\n",
      "enter a value2\n"
     ]
    },
    {
     "data": {
      "text/plain": [
       "256"
      ]
     },
     "execution_count": 7,
     "metadata": {},
     "output_type": "execute_result"
    }
   ],
   "source": [
    "# Power\n",
    "\n",
    "    \n",
    "x = int(input('enter a value'));\n",
    "y = int(input('enter a value'));\n",
    "z = x**y;\n",
    "z\n"
   ]
  },
  {
   "cell_type": "code",
   "execution_count": null,
   "id": "c866e0cf",
   "metadata": {},
   "outputs": [],
   "source": []
  },
  {
   "cell_type": "markdown",
   "id": "93a4da79",
   "metadata": {},
   "source": [
    "# QUESTION NO 2 PROGRAM FOR CHEKING PRESCENCE OF ANY NUMERIC VALUE IN LIST USING FOR LOOP"
   ]
  },
  {
   "cell_type": "code",
   "execution_count": 34,
   "id": "dc2bfc6b",
   "metadata": {},
   "outputs": [
    {
     "name": "stdout",
     "output_type": "stream",
     "text": [
      "[3, 4]\n"
     ]
    }
   ],
   "source": [
    "lst = [\"Rizwan\",\"Ahmed\",\"Karachi\",4,3,\"Butterfly\",\"Orange\"]\n",
    "num = [1,2,3,4,5,6,7,8,9,10,11,12,13,14,15,16,17,18,19,20]\n",
    "check = []\n",
    "for i in range(len(lst)):\n",
    "    for j in range(len(num)):\n",
    "        if (lst[i]==num[j]):\n",
    "            check.append(i)\n",
    "print(check)       "
   ]
  },
  {
   "cell_type": "markdown",
   "id": "76f1678c",
   "metadata": {},
   "source": [
    "# Question no 3 \"Write a python script to add a key to a dictionary\""
   ]
  },
  {
   "cell_type": "code",
   "execution_count": 65,
   "id": "c0ac5172",
   "metadata": {},
   "outputs": [
    {
     "name": "stdout",
     "output_type": "stream",
     "text": [
      "<class 'dict'>\n",
      "{1: 'mango', 2: 'orange', 3: 'apple', 4: 'banana'}\n"
     ]
    }
   ],
   "source": [
    "a = dict([(1,\"mango\"),(2,\"orange\"),(3,\"apple\")])\n",
    "a[4] = \"banana\"\n",
    "print(type(a));\n",
    "print(a);"
   ]
  },
  {
   "cell_type": "markdown",
   "id": "0ea668b8",
   "metadata": {},
   "source": [
    "# QUESTION NO 4 \"SUM ALL THE NUMERIC ITEMS IN A DICTIONARY\""
   ]
  },
  {
   "cell_type": "code",
   "execution_count": 43,
   "id": "2b98420e",
   "metadata": {},
   "outputs": [
    {
     "name": "stdout",
     "output_type": "stream",
     "text": [
      "60\n"
     ]
    }
   ],
   "source": [
    "web_dict ={'red':30,'blue':20,'green':10}\n",
    "print(sum(web_dict.values()))\n"
   ]
  },
  {
   "cell_type": "markdown",
   "id": "27deede3",
   "metadata": {},
   "source": [
    "# Question no 5 \" Write a program to identify duplicate values from the list\""
   ]
  },
  {
   "cell_type": "code",
   "execution_count": 69,
   "id": "5876bd06",
   "metadata": {},
   "outputs": [
    {
     "name": "stdout",
     "output_type": "stream",
     "text": [
      "[3, 4]\n"
     ]
    }
   ],
   "source": [
    "lst1 = [3,4,9,10]\n",
    "lst2 = [1,2,3,4,5,6]\n",
    "t_lst = []\n",
    "for i in lst1:\n",
    "    for j in lst2:\n",
    "        if (i==j):\n",
    "            t_lst.append(i)\n",
    "print(check)    \n",
    "    "
   ]
  },
  {
   "cell_type": "markdown",
   "id": "44a8e9a3",
   "metadata": {},
   "source": [
    "# Question no 6 \"Write a python script to check if a given key already exist in a dictionary \" "
   ]
  },
  {
   "cell_type": "code",
   "execution_count": null,
   "id": "dffc59d3",
   "metadata": {},
   "outputs": [],
   "source": []
  }
 ],
 "metadata": {
  "kernelspec": {
   "display_name": "Python 3",
   "language": "python",
   "name": "python3"
  },
  "language_info": {
   "codemirror_mode": {
    "name": "ipython",
    "version": 3
   },
   "file_extension": ".py",
   "mimetype": "text/x-python",
   "name": "python",
   "nbconvert_exporter": "python",
   "pygments_lexer": "ipython3",
   "version": "3.8.8"
  }
 },
 "nbformat": 4,
 "nbformat_minor": 5
}
